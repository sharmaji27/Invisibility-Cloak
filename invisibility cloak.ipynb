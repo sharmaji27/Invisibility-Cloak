{
 "cells": [
  {
   "cell_type": "code",
   "execution_count": 29,
   "metadata": {},
   "outputs": [],
   "source": [
    "import cv2\n",
    "import numpy as np\n",
    "import time\n",
    "\n",
    "\n",
    "cap = cv2.VideoCapture(0)\n",
    "\n",
    "# saving the background\n",
    "\n",
    "for i in range(30):\n",
    "    ret,background = cap.read()\n",
    "\n",
    "background = np.flip(background,axis=1)\n",
    "cv2.imshow('after flipping',background)\n",
    "cv2.waitKey(0)\n",
    "\n",
    "while(1):\n",
    "    ret, frame = cap.read()\n",
    "\n",
    "    img = np.flip(frame,axis=1)\n",
    "    hsv = cv2.cvtColor(img, cv2.COLOR_BGR2HSV)\n",
    "    blurred = cv2.GaussianBlur(hsv, (35, 35),0)\n",
    "#     cv2.imshow('blurred',blurred)\n",
    "    \n",
    "    lower_red = np.array([2,170,0])\n",
    "    upper_red = np.array([28,255,255])\n",
    "    mask = cv2.inRange(hsv,lower_red,upper_red)\n",
    "#     cv2.imshow('mask',mask)\n",
    "    \n",
    "#     mask = cv2.dilate(mask,np.ones((3,3),np.uint8))\n",
    "#     cv2.imshow('dilated mask',mask)\n",
    "    mask = cv2.erode(mask,np.ones((7,7),np.uint8))\n",
    "#     cv2.imshow('eroded mask',mask)\n",
    "    mask = cv2.dilate(mask,np.ones((19,19),np.uint8))\n",
    "#     cv2.imshow('dilated mask',mask)\n",
    "    \n",
    "    img[np.where(mask==255)] = background[np.where(mask==255)]\n",
    "    cv2.imshow('MAGIC',img)\n",
    "    \n",
    "    \n",
    "    if cv2.waitKey(1) == 27:\n",
    "        break\n",
    "        \n",
    "cv2.destroyAllWindows()\n",
    "cap.release()"
   ]
  },
  {
   "cell_type": "code",
   "execution_count": 7,
   "metadata": {},
   "outputs": [],
   "source": [
    "cv2.destroyAllWindows()\n",
    "cap.release()"
   ]
  },
  {
   "cell_type": "code",
   "execution_count": null,
   "metadata": {},
   "outputs": [],
   "source": []
  }
 ],
 "metadata": {
  "kernelspec": {
   "display_name": "Python 3",
   "language": "python",
   "name": "python3"
  },
  "language_info": {
   "codemirror_mode": {
    "name": "ipython",
    "version": 3
   },
   "file_extension": ".py",
   "mimetype": "text/x-python",
   "name": "python",
   "nbconvert_exporter": "python",
   "pygments_lexer": "ipython3",
   "version": "3.7.1"
  }
 },
 "nbformat": 4,
 "nbformat_minor": 2
}
